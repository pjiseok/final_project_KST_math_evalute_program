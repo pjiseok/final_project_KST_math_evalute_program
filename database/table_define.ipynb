version https://git-lfs.github.com/spec/v1
oid sha256:d6c87b23ae14216264283f36de2956f52dfa87539d1e1e1259c15e5544c2f006
size 53557
