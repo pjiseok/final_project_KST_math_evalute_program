version https://git-lfs.github.com/spec/v1
oid sha256:2989719ca372f6c144b4f771a13bea4a6d16a3270b50ab107cff0369e282601f
size 7768505
